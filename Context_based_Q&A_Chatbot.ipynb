{
 "cells": [
  {
   "cell_type": "markdown",
   "id": "2051c852-1e18-4a54-b115-a2fd687317a9",
   "metadata": {},
   "source": [
    "# Data and Data Science Chatbot"
   ]
  },
  {
   "cell_type": "markdown",
   "id": "cb65e5b6-93ec-4991-a6da-de5b1e5f179a",
   "metadata": {},
   "source": [
    "### Load the dotenv IPython extension"
   ]
  },
  {
   "cell_type": "code",
   "execution_count": 1,
   "id": "c7b00d22-ebaa-4b95-bdf2-bf3729cfaf45",
   "metadata": {},
   "outputs": [],
   "source": [
    "%load_ext dotenv\n",
    "%dotenv"
   ]
  },
  {
   "cell_type": "code",
   "execution_count": 4,
   "id": "48c9d848-0710-4324-a0c0-8cde2013cd43",
   "metadata": {},
   "outputs": [],
   "source": [
    "from langchain_community.document_loaders import Docx2txtLoader\n",
    "from langchain_text_splitters.markdown import MarkdownHeaderTextSplitter\n",
    "from langchain_text_splitters.character import CharacterTextSplitter\n",
    "from langchain_openai.embeddings import OpenAIEmbeddings\n",
    "from langchain_community.vectorstores import Chroma\n",
    "from langchain_core.prompts import PromptTemplate\n",
    "from langchain_openai import ChatOpenAI\n",
    "from langchain_core.runnables import RunnablePassthrough\n",
    "from langchain_core.runnables import RunnableParallel\n",
    "from langchain_core.output_parsers import StrOutputParser"
   ]
  },
  {
   "cell_type": "markdown",
   "id": "59f70dd2-77e2-4e6b-b796-02f1187b35a7",
   "metadata": {},
   "source": [
    "### Load .docx, split on Markdown headers and by sentence length, clean up whitespace, and initialize embeddings"
   ]
  },
  {
   "cell_type": "code",
   "execution_count": 5,
   "id": "290ebd53-0c91-4a69-9e0b-1dbcc552aeda",
   "metadata": {},
   "outputs": [],
   "source": [
    "loader_docx = Docx2txtLoader(\"Introduction_to_Data_and_Data_Science_2.docx\")\n",
    "pages = loader_docx.load()\n",
    "\n",
    "md_splitter = MarkdownHeaderTextSplitter(\n",
    "    headers_to_split_on = [(\"#\", \"Course Title\"), \n",
    "                           (\"##\", \"Lecture Title\")]\n",
    ")\n",
    "\n",
    "pages_md_split = md_splitter.split_text(pages[0].page_content)\n",
    "\n",
    "for i in range(len(pages_md_split)):\n",
    "    pages_md_split[i].page_content = ' '.join(pages_md_split[i].page_content.split())\n",
    "    \n",
    "char_splitter = CharacterTextSplitter(\n",
    "    separator = \".\",\n",
    "    chunk_size = 500,\n",
    "    chunk_overlap  = 50\n",
    ")\n",
    "\n",
    "pages_char_split = char_splitter.split_documents(pages_md_split)\n",
    "\n",
    "embedding = OpenAIEmbeddings(model='text-embedding-ada-002')"
   ]
  },
  {
   "cell_type": "markdown",
   "id": "90b08eee-b57a-4aa8-92bb-4531eee4b189",
   "metadata": {},
   "source": [
    "### Build a Chroma vector store from the embedded document chunks"
   ]
  },
  {
   "cell_type": "code",
   "execution_count": 6,
   "id": "b360655e-9b55-4984-8ae6-1b03c4ec989f",
   "metadata": {},
   "outputs": [],
   "source": [
    "vectorstore = Chroma.from_documents(documents = pages_char_split, \n",
    "                                    embedding = embedding, \n",
    "                                    persist_directory = \"./intro-to-ds-lectures\")"
   ]
  },
  {
   "cell_type": "markdown",
   "id": "22132088-539d-464f-a726-189810d33730",
   "metadata": {},
   "source": [
    "### Load existing Chroma vector"
   ]
  },
  {
   "cell_type": "code",
   "execution_count": 7,
   "id": "2003e654-1c81-4607-af44-b55bc2bbc37e",
   "metadata": {},
   "outputs": [
    {
     "name": "stderr",
     "output_type": "stream",
     "text": [
      "C:\\Users\\parvi\\AppData\\Local\\Temp\\ipykernel_33648\\4174848054.py:1: LangChainDeprecationWarning: The class `Chroma` was deprecated in LangChain 0.2.9 and will be removed in 1.0. An updated version of the class exists in the :class:`~langchain-chroma package and should be used instead. To use it run `pip install -U :class:`~langchain-chroma` and import as `from :class:`~langchain_chroma import Chroma``.\n",
      "  vectorstore = Chroma(persist_directory = \"./intro-to-ds-lectures\",\n"
     ]
    }
   ],
   "source": [
    "vectorstore = Chroma(persist_directory = \"./intro-to-ds-lectures\", \n",
    "                     embedding_function = OpenAIEmbeddings(model='text-embedding-ada-002'))"
   ]
  },
  {
   "cell_type": "markdown",
   "id": "21bf9477-5348-4a29-9622-0922c33f5bc4",
   "metadata": {},
   "source": [
    "### Configure the vector store as an MMR retriever"
   ]
  },
  {
   "cell_type": "code",
   "execution_count": 8,
   "id": "9b87ffd1-6f7e-4ec0-9a6d-3af3bc0e479f",
   "metadata": {},
   "outputs": [],
   "source": [
    "retriever = vectorstore.as_retriever(search_type = 'mmr', \n",
    "                                     search_kwargs = {'k':3, \n",
    "                                                      'lambda_mult':0.7})"
   ]
  },
  {
   "cell_type": "markdown",
   "id": "7fa64279-dbda-4cc4-a041-8d975f7b1da8",
   "metadata": {},
   "source": [
    "### Define a prompt template for context-based Q&A"
   ]
  },
  {
   "cell_type": "code",
   "execution_count": 10,
   "id": "e185031b-42b0-4359-8051-a586503285c0",
   "metadata": {},
   "outputs": [],
   "source": [
    "TEMPLATE = '''\n",
    "Answer the following question:\n",
    "{question}\n",
    "\n",
    "To answer the question, use only the following context:\n",
    "{context}\n",
    "\n",
    "At the end of the response, specify the name of the lecture this context is taken from in the format:\n",
    "Resources: *Lecture Title*\n",
    "where *Lecture Title* should be substituted with the title of all resource lectures.\n",
    "'''\n",
    "\n",
    "prompt_template = PromptTemplate.from_template(TEMPLATE)"
   ]
  },
  {
   "cell_type": "markdown",
   "id": "e70c9875-b32d-41ec-9b23-9c80bb42d7a5",
   "metadata": {},
   "source": [
    "### Initialize the GPT-4 chat interface"
   ]
  },
  {
   "cell_type": "code",
   "execution_count": 11,
   "id": "e56b8fa0-b5bc-465f-bc7b-2197b345abd2",
   "metadata": {},
   "outputs": [],
   "source": [
    "chat = ChatOpenAI(model_name = 'gpt-4', \n",
    "                  seed = 365,\n",
    "                  max_tokens = 250)"
   ]
  },
  {
   "cell_type": "code",
   "execution_count": 12,
   "id": "e4e7b8d7-3830-4217-a5e4-6b98657fa0ee",
   "metadata": {},
   "outputs": [],
   "source": [
    "question = \"What software do data scientists use?\""
   ]
  },
  {
   "cell_type": "markdown",
   "id": "e620962f-d26f-4c09-88d8-6ebb0f535cf1",
   "metadata": {},
   "source": [
    "### Assemble the retrieval-QA pipeline"
   ]
  },
  {
   "cell_type": "code",
   "execution_count": 13,
   "id": "4b6d9b15-dafb-4e48-a67a-f3ca151fc0fe",
   "metadata": {},
   "outputs": [],
   "source": [
    "chain = ({'context': retriever, \n",
    "         'question': RunnablePassthrough()} \n",
    "         | prompt_template \n",
    "         | chat \n",
    "         | StrOutputParser())"
   ]
  },
  {
   "cell_type": "markdown",
   "id": "8b9d4cc0-4a60-4992-bc81-e0922bec60c8",
   "metadata": {},
   "source": [
    "### Chatbot Answer"
   ]
  },
  {
   "cell_type": "code",
   "execution_count": 14,
   "id": "85fde40d-a3e0-40e0-a8a6-72a2bd49bc04",
   "metadata": {},
   "outputs": [
    {
     "data": {
      "text/plain": [
       "'Data scientists use a variety of software and programming languages. R and Python are two of the most popular tools due to their ability to manipulate data and their integration within multiple data and data science software platforms. They can also solve a wide range of business and data-related problems. In addition to these, Hadoop, a software framework, is used to address the complexity of big data and its computational intensity. Furthermore, software like Power BI, SaS, Qlik, and Tableau are used for business intelligence visualizations.\\n\\nResources: Programming Languages & Software Employed in Data Science - All the Tools You Need'"
      ]
     },
     "execution_count": 14,
     "metadata": {},
     "output_type": "execute_result"
    }
   ],
   "source": [
    "chain.invoke(question)"
   ]
  },
  {
   "cell_type": "code",
   "execution_count": null,
   "id": "b393b3af-75e2-45fb-afe3-16738508b326",
   "metadata": {},
   "outputs": [],
   "source": []
  }
 ],
 "metadata": {
  "kernelspec": {
   "display_name": "langchain_env",
   "language": "python",
   "name": "langchain_env"
  },
  "language_info": {
   "codemirror_mode": {
    "name": "ipython",
    "version": 3
   },
   "file_extension": ".py",
   "mimetype": "text/x-python",
   "name": "python",
   "nbconvert_exporter": "python",
   "pygments_lexer": "ipython3",
   "version": "3.13.2"
  }
 },
 "nbformat": 4,
 "nbformat_minor": 5
}
